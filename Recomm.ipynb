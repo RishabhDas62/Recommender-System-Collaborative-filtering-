{
 "cells": [
  {
   "cell_type": "code",
   "execution_count": 1,
   "metadata": {},
   "outputs": [
    {
     "name": "stderr",
     "output_type": "stream",
     "text": [
      "/Users/rishabhdas/Desktop/recomm/recomm/lib/python3.6/site-packages/lightfm/_lightfm_fast.py:9: UserWarning: LightFM was compiled without OpenMP support. Only a single thread will be used.\n",
      "  warnings.warn('LightFM was compiled without OpenMP support. '\n"
     ]
    }
   ],
   "source": [
    "import numpy as np\n",
    "from lightfm.datasets import fetch_movielens\n",
    "from lightfm import LightFM\n",
    "from lightfm.evaluation import precision_at_k\n",
    "from lightfm.evaluation import auc_score"
   ]
  },
  {
   "cell_type": "code",
   "execution_count": 2,
   "metadata": {},
   "outputs": [],
   "source": [
    "import pandas as pd\n",
    "import seaborn as sns\n",
    "import matplotlib.pyplot as plt"
   ]
  },
  {
   "cell_type": "code",
   "execution_count": 3,
   "metadata": {},
   "outputs": [],
   "source": [
    "import math\n",
    "import itertools\n",
    "from collections import Counter"
   ]
  },
  {
   "cell_type": "code",
   "execution_count": 4,
   "metadata": {},
   "outputs": [],
   "source": [
    "data=fetch_movielens(min_rating=4.0)"
   ]
  },
  {
   "cell_type": "code",
   "execution_count": 5,
   "metadata": {},
   "outputs": [],
   "source": [
    "model=LightFM(loss=\"warp\")\n",
    "train=data[\"train\"]\n",
    "test=data[\"test\"]"
   ]
  },
  {
   "cell_type": "code",
   "execution_count": 6,
   "metadata": {},
   "outputs": [],
   "source": [
    "def print_log(row, header=False, spacing=12):\n",
    "    top = ''\n",
    "    middle = ''\n",
    "    bottom = ''\n",
    "    for r in row:\n",
    "        top += '+{}'.format('-'*spacing)\n",
    "        if isinstance(r, str):\n",
    "            middle += '| {0:^{1}} '.format(r, spacing-2)\n",
    "        elif isinstance(r, int):\n",
    "            middle += '| {0:^{1}} '.format(r, spacing-2)\n",
    "        elif (isinstance(r, float)\n",
    "              or isinstance(r, np.float32)\n",
    "              or isinstance(r, np.float64)):\n",
    "            middle += '| {0:^{1}.5f} '.format(r, spacing-2)\n",
    "        bottom += '+{}'.format('='*spacing)\n",
    "    top += '+'\n",
    "    middle += '|'\n",
    "    bottom += '+'\n",
    "    if header:\n",
    "        print(top)\n",
    "        print(middle)\n",
    "        print(bottom)\n",
    "    else:\n",
    "        print(middle)\n",
    "        print(top)"
   ]
  },
  {
   "cell_type": "code",
   "execution_count": 7,
   "metadata": {},
   "outputs": [],
   "source": [
    "def learning_curve(model, train, test,iterarray,**fit_params):\n",
    "    old_epoch = 0\n",
    "    train_p = []\n",
    "    test_p = []\n",
    "    headers = ['Epoch', 'train', 'test']\n",
    "    print_log(headers, header=True)\n",
    "    for epoch in iterarray:\n",
    "        more = epoch - old_epoch\n",
    "        model.fit_partial(train,epochs=more,**fit_params)\n",
    "        train_auc = auc_score(model, data[\"train\"], num_threads=2)\n",
    "        test_auc = auc_score(model, data[\"test\"], train_interactions=data[\"train\"], num_threads=2)\n",
    "        train_p.append(np.mean(train_auc))\n",
    "        test_p.append(np.mean(test_auc))\n",
    "        row = [epoch, train_p[-1], test_p[-1]]\n",
    "        print_log(row)\n",
    "    return model, train_p, test_p"
   ]
  },
  {
   "cell_type": "code",
   "execution_count": 8,
   "metadata": {},
   "outputs": [
    {
     "name": "stdout",
     "output_type": "stream",
     "text": [
      "+------------+------------+------------+\n",
      "|   Epoch    |   train    |    test    |\n",
      "+============+============+============+\n",
      "|     10     |  0.94074   |  0.92325   |\n",
      "+------------+------------+------------+\n",
      "|     20     |  0.95697   |  0.93241   |\n",
      "+------------+------------+------------+\n",
      "|     30     |  0.96311   |  0.93323   |\n",
      "+------------+------------+------------+\n",
      "|     40     |  0.96589   |  0.93269   |\n",
      "+------------+------------+------------+\n",
      "|     50     |  0.96735   |  0.93234   |\n",
      "+------------+------------+------------+\n",
      "|     60     |  0.96834   |  0.93184   |\n",
      "+------------+------------+------------+\n",
      "|     70     |  0.96903   |  0.93157   |\n",
      "+------------+------------+------------+\n",
      "|     80     |  0.96957   |  0.93138   |\n",
      "+------------+------------+------------+\n",
      "|     90     |  0.97000   |  0.93123   |\n",
      "+------------+------------+------------+\n",
      "|    100     |  0.97036   |  0.93120   |\n",
      "+------------+------------+------------+\n"
     ]
    }
   ],
   "source": [
    "model = LightFM(loss='warp', random_state=2016)\n",
    "# Initialize model.\n",
    "model.fit(train, epochs=0);\n",
    "\n",
    "iterarray = range(10, 110, 10)\n",
    "\n",
    "model, train_p, test_p = learning_curve(\n",
    "    model, train, test, iterarray, **{'num_threads': 4}\n",
    ")"
   ]
  },
  {
   "cell_type": "code",
   "execution_count": 9,
   "metadata": {},
   "outputs": [],
   "source": [
    "def sample_recommendation(model,data,user_ids):\n",
    "    n_users,n_items=data[\"train\"].shape\n",
    "\n",
    "    for user_id in user_ids:\n",
    "        known_positives=data[\"item_labels\"][data[\"train\"].tocsr()[user_id].indices]\n",
    "\n",
    "        scores=model.predict(user_id,np.arange(n_items))\n",
    "\n",
    "        top_items=data[\"item_labels\"][np.argsort(-scores)]\n",
    "        print(\"User %s\" % user_id)\n",
    "        print(\"     Known Positives:\")\n",
    "\n",
    "\n",
    "        for x in known_positives[:3]:\n",
    "            print(\"       %s\" % x)\n",
    "\n",
    "        print(\"     Recommendations:\")\n",
    "\n",
    "        for x in top_items[:3]:\n",
    "            print(\"       %s\" % x)\n",
    "            "
   ]
  },
  {
   "cell_type": "code",
   "execution_count": 10,
   "metadata": {},
   "outputs": [
    {
     "data": {
      "image/png": "[encoded data removed]",
      "text/plain": [
       "<Figure size 432x288 with 2 Axes>"
      ]
     },
     "metadata": {},
     "output_type": "display_data"
    }
   ],
   "source": [
    "sns.set_style('white')\n",
    "\n",
    "def plot_p(iterarray, p,\n",
    "              title):\n",
    "    plt.plot(iterarray, p);\n",
    "    plt.title(title, fontsize=20);\n",
    "    plt.xlabel('Epochs', fontsize=24);\n",
    "    plt.xticks(fontsize=14);\n",
    "\n",
    "# Plot train on left\n",
    "ax = plt.subplot(1, 2, 1)\n",
    "fig = ax.get_figure();\n",
    "sns.despine(fig);\n",
    "plot_p(iterarray, train_p,\n",
    "         'Train')\n",
    "\n",
    "# Plot test on right\n",
    "ax = plt.subplot(1, 2, 2)\n",
    "fig = ax.get_figure();\n",
    "sns.despine(fig);\n",
    "plot_p(iterarray, test_p,\n",
    "         'Test')\n",
    "\n",
    "plt.tight_layout();"
   ]
  },
  {
   "cell_type": "code",
   "execution_count": 14,
   "metadata": {},
   "outputs": [
    {
     "name": "stdout",
     "output_type": "stream",
     "text": [
      "User 11\n",
      "     Known Positives:\n",
      "       Get Shorty (1995)\n",
      "       Mr. Holland's Opus (1995)\n",
      "       Apollo 13 (1995)\n",
      "     Recommendations:\n",
      "       Schindler's List (1993)\n",
      "       Braveheart (1995)\n",
      "       Forrest Gump (1994)\n",
      "User 21\n",
      "     Known Positives:\n",
      "       Get Shorty (1995)\n",
      "       From Dusk Till Dawn (1996)\n",
      "       Muppet Treasure Island (1996)\n",
      "     Recommendations:\n",
      "       Raiders of the Lost Ark (1981)\n",
      "       Terminator, The (1984)\n",
      "       Empire Strikes Back, The (1980)\n",
      "User 31\n",
      "     Known Positives:\n",
      "       Twelve Monkeys (1995)\n",
      "       Star Wars (1977)\n",
      "       Return of the Jedi (1983)\n",
      "     Recommendations:\n",
      "       Scream (1996)\n",
      "       Fargo (1996)\n",
      "       Twelve Monkeys (1995)\n"
     ]
    }
   ],
   "source": [
    "sample_recommendation(model,data,[11,21,31])"
   ]
  },
  {
   "cell_type": "code",
   "execution_count": null,
   "metadata": {},
   "outputs": [],
   "source": []
  }
 ],
 "metadata": {
  "kernelspec": {
   "display_name": "Python 3",
   "language": "python",
   "name": "python3"
  },
  "language_info": {
   "codemirror_mode": {
    "name": "ipython",
    "version": 3
   },
   "file_extension": ".py",
   "mimetype": "text/x-python",
   "name": "python",
   "nbconvert_exporter": "python",
   "pygments_lexer": "ipython3",
   "version": "3.6.3"
  }
 },
 "nbformat": 4,
 "nbformat_minor": 2
}
